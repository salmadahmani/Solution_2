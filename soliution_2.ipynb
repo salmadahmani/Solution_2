{
  "nbformat": 4,
  "nbformat_minor": 0,
  "metadata": {
    "colab": {
      "provenance": []
    },
    "kernelspec": {
      "name": "python3",
      "display_name": "Python 3"
    },
    "language_info": {
      "name": "python"
    }
  },
  "cells": [
    {
      "cell_type": "code",
      "execution_count": 11,
      "metadata": {
        "colab": {
          "base_uri": "https://localhost:8080/"
        },
        "id": "0LjGxBEgalFP",
        "outputId": "b4506971-4485-4d3e-9c4f-ebc7661d47d4"
      },
      "outputs": [
        {
          "output_type": "stream",
          "name": "stdout",
          "text": [
            "[10, 17, 10, 18, 17, 19, 16, 13, 11, 12, 13, 19, 16, 16, 16, 15, 14, 16, 11, 11, 15, 16, 13, 10, 13, 11, 17, 15, 13, 11, 13, 13, 17, 16, 17, 13, 18, 18, 19, 10, 16, 18, 14, 10, 19, 18]\n",
            "[2, 9, 1, 2, 6, 0, 4, 1, 0, 2, 4, 0, 1, 6, 0, 5, 8, 4, 1, 7, 0, 0, 1, 1, 6, 9, 7, 2, 3, 7, 8, 5, 3, 1, 2, 8, 4, 7, 8, 1, 2, 0, 8, 3, 0, 5, 7, 9, 0, 1, 0, 9, 8, 2]\n"
          ]
        }
      ],
      "source": [
        "\n",
        "\n",
        "import numpy as np\n",
        "note = np.random.randint(0,20,100) \n",
        "\n",
        "valide = []\n",
        "non_valide =[]\n",
        "for i in (note):\n",
        "  if i >= 10:\n",
        "    valide.append(i)\n",
        "  elif i <= 10:\n",
        "    non_valide.append(i)\n",
        "print(valide)\n",
        "print(non_valide)\n",
        " "
      ]
    }
  ]
}